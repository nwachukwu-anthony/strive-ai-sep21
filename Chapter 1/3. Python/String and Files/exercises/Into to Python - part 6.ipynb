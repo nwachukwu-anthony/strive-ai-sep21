{
 "cells": [
  {
   "cell_type": "markdown",
   "source": [
    "# Intro to Python - Exercises - Part 6"
   ],
   "metadata": {}
  },
  {
   "cell_type": "markdown",
   "source": [
    "## 6. Strings"
   ],
   "metadata": {}
  },
  {
   "cell_type": "markdown",
   "source": [
    "Until now, most examples and exercises have been using numbers. In daily life, it is far more commonplace to deal with textual information. So are you ever going to learn how to deal with texts?\n",
    "\n",
    "The reason that dealing with texts was postponed until this point, is that dealing with numbers is simply easier than dealing with texts. But in the present section, the first steps are taken to learn to manipulate textual information.\n",
    "\n",
    "Texts, in programming languages, are dealt with in the form of strings. This section is on the details of strings, and on readily-available functions to juggle them."
   ],
   "metadata": {}
  },
  {
   "cell_type": "markdown",
   "source": [
    "### Multi-line strings"
   ],
   "metadata": {}
  },
  {
   "cell_type": "markdown",
   "source": [
    "Strings in Python may span across multiple lines. This can be useful when you have a very long string, or when you want to format the output of the string in a certain way. Multi-line strings can be achieved in two ways:\n",
    "\n",
    "1. With single or double quotes, and an indication that the remainder of the string continues on the next line with a backslash.\n",
    "2. With triple single or double quotes.\n",
    "\n",
    "I first demonstrate how this works when you use the regular string enclosure with one double or single quote at each end of the string:"
   ],
   "metadata": {}
  },
  {
   "cell_type": "code",
   "execution_count": 1,
   "source": [
    "longString = \"I'm fed up with being treated like sheep. \\\r\n",
    "What's the point of going abroad if you're just another \\\r\n",
    "tourist carted around in buses surrounded by sweaty \\\r\n",
    "mindless oafs from Kettering and Coventry in their \\\r\n",
    "cloth caps and their cardigans and their transistor \\\r\n",
    "radios and their Sunday Mirrors, complaining about \\\r\n",
    "the tea - 'Oh they don't make it properly here, do they, \\\r\n",
    "not like at home' - and stopping at Majorcan bodegas \\\r\n",
    "selling fish and chips and Watney's Red Barrel and \\\r\n",
    "calamaris and two veg and sitting in their cotton frocks \\\r\n",
    "squirting Timothy White's suncream all over their puffy \\\r\n",
    "raw swollen purulent flesh 'cos they 'overdid it on the first day.\"\r\n",
    "print(longString)"
   ],
   "outputs": [
    {
     "output_type": "stream",
     "name": "stdout",
     "text": [
      "I'm fed up with being treated like sheep. What's the point of going abroad if you're just another tourist carted around in buses surrounded by sweaty mindless oafs from Kettering and Coventry in their cloth caps and their cardigans and their transistor radios and their Sunday Mirrors, complaining about the tea - 'Oh they don't make it properly here, do they, not like at home' - and stopping at Majorcan bodegas selling fish and chips and Watney's Red Barrel and calamaris and two veg and sitting in their cotton frocks squirting Timothy White's suncream all over their puffy raw swollen purulent flesh 'cos they 'overdid it on the first day.\n"
     ]
    }
   ],
   "metadata": {}
  },
  {
   "cell_type": "markdown",
   "source": [
    "As you can see, Python now interprets this example as a single line of text. The backslash (`\\`) can actually be included after any Python statement to indicate that it continues on the next line, and it can be quite useful for that, for instance when you write long calculations.\n",
    "\n",
    "The recommended way to write multi-line strings in Python is, however, to use triple double or single quotes. I indicated earlier that you can use those to write multi-line comments. Such comments are basically large strings in the middle of your Python program, which do nothing as they are not assigned to a variable.\n",
    "\n",
    "Here is an example of a long string with triple double quotes:"
   ],
   "metadata": {}
  },
  {
   "cell_type": "code",
   "execution_count": 2,
   "source": [
    "longString = \"\"\"And being herded into endless Hotel Miramars and Bellevueses \r\n",
    "and Continentales with their modern international luxury \r\n",
    "roomettes and draught Red Barrel and swimming pools full \r\n",
    "of fat German businessmen pretending they're acrobats forming \r\n",
    "pyramids and frightening the children and barging into queues \r\n",
    "and if you're not at your table spot on seven you miss the \r\n",
    "bowl of Campbell's Cream of Mushroom soup, the first item on \r\n",
    "the menu of International Cuisine, and every Thursday night \r\n",
    "the hotel has a bloody cabaret in the bar, featuring a tiny \r\n",
    "emaciated dago with nine-inch hips and some bloated fat tart \r\n",
    "with her hair brylcreemed down and a big arse presenting \r\n",
    "Flamenco for Foreigners.\"\"\"\r\n",
    "print(longString)"
   ],
   "outputs": [
    {
     "output_type": "stream",
     "name": "stdout",
     "text": [
      "And being herded into endless Hotel Miramars and Bellevueses \n",
      "and Continentales with their modern international luxury \n",
      "roomettes and draught Red Barrel and swimming pools full \n",
      "of fat German businessmen pretending they're acrobats forming \n",
      "pyramids and frightening the children and barging into queues \n",
      "and if you're not at your table spot on seven you miss the \n",
      "bowl of Campbell's Cream of Mushroom soup, the first item on \n",
      "the menu of International Cuisine, and every Thursday night \n",
      "the hotel has a bloody cabaret in the bar, featuring a tiny \n",
      "emaciated dago with nine-inch hips and some bloated fat tart \n",
      "with her hair brylcreemed down and a big arse presenting \n",
      "Flamenco for Foreigners.\n"
     ]
    }
   ],
   "metadata": {}
  },
  {
   "cell_type": "markdown",
   "source": [
    "The interesting difference between these two examples is that in the first example, the string was interpreted as one long, continuous series of characters, while in the second example the different lines are all printed on different lines on the output. The reason that this happens is that there is an invisible character included at the end of each line in the second example that indicates that Python should move to the next line before continuing. This is the so-called \"newline\" character, and you can actually insert it explicitly into a string, using the code \"`\\n`\". So this code should not be read as two characters, the backslash and the \"n\", but as a single newline character. By using it, you can ensure that you print the output on multiple lines, even if you use the backslash to indicate the continuation of the string, as was done in the first example. For example:"
   ],
   "metadata": {}
  },
  {
   "cell_type": "code",
   "execution_count": 3,
   "source": [
    "longstring = \"And then some adenoidal typists from Birmingham with flabby\\n\\\r\n",
    "white legs and diarrhoea trying to pick up hairy bandy-legged\\n\\\r\n",
    "wop waiters called Manuel and once a week there's an excursion\\n\\\r\n",
    "to the local Roman Ruins to buy cherryade and melted ice cream\\n\\\r\n",
    "and bleeding Watney's Red Barrel and one evening you visit the\\n\\\r\n",
    "so called typical restaurant with local colour and atmosphere\\n\\\r\n",
    "and you sit next to a party from Rhyl who keep singing\\n\\\r\n",
    "'Torremolinos, torremolinos' and complaining about the food -\\n\\\r\n",
    "'It's so greasy here, isn't it?' - and you get cornered by some\\n\\\r\n",
    "drunken greengrocer from Luton with an Instamatic camera and\\n\\\r\n",
    "Dr. Scholl sandals and last Tuesday's Daily Express and he\\n\\\r\n",
    "drones on and on and on about how Mr. Smith should be running\\n\\\r\n",
    "this country and how many languages Enoch Powell can speak and\\n\\\r\n",
    "then he throws up over the Cuba Libres.\"\r\n",
    "print(longstring)"
   ],
   "outputs": [
    {
     "output_type": "stream",
     "name": "stdout",
     "text": [
      "And then some adenoidal typists from Birmingham with flabby\n",
      "white legs and diarrhoea trying to pick up hairy bandy-legged\n",
      "wop waiters called Manuel and once a week there's an excursion\n",
      "to the local Roman Ruins to buy cherryade and melted ice cream\n",
      "and bleeding Watney's Red Barrel and one evening you visit the\n",
      "so called typical restaurant with local colour and atmosphere\n",
      "and you sit next to a party from Rhyl who keep singing\n",
      "'Torremolinos, torremolinos' and complaining about the food -\n",
      "'It's so greasy here, isn't it?' - and you get cornered by some\n",
      "drunken greengrocer from Luton with an Instamatic camera and\n",
      "Dr. Scholl sandals and last Tuesday's Daily Express and he\n",
      "drones on and on and on about how Mr. Smith should be running\n",
      "this country and how many languages Enoch Powell can speak and\n",
      "then he throws up over the Cuba Libres.\n"
     ]
    }
   ],
   "metadata": {}
  },
  {
   "cell_type": "markdown",
   "source": [
    "This means that if you do not want automatic newline characters inserted into a multi-line string, you have to use the first approach, with the backslash at the end of the line. If you are okay with newline characters in your multi-line string, the second approach is probably the easiest to read."
   ],
   "metadata": {}
  },
  {
   "cell_type": "markdown",
   "source": [
    "### Escape sequences"
   ],
   "metadata": {}
  },
  {
   "cell_type": "markdown",
   "source": [
    "\"`\\n`\" is a so-called \"escape sequence\". An escape sequence is a string character written as a backslash followed by a code, which can be one or multiple characters. Python interprets escape sequences in a string as a special character; a control character."
   ],
   "metadata": {}
  },
  {
   "cell_type": "code",
   "execution_count": 4,
   "source": [
    "word1 = \"orange\"\r\n",
    "word2 = \"banana\"\r\n",
    "\r\n",
    "def add_newline_between_words(word1,word2):\r\n",
    "    new_line = word1 + \"\\n\" + word2\r\n",
    "    return(new_line)\r\n",
    "    \r\n",
    "print(add_newline_between_words(word1,word2))"
   ],
   "outputs": [
    {
     "output_type": "stream",
     "name": "stdout",
     "text": [
      "orange\n",
      "banana\n"
     ]
    }
   ],
   "metadata": {}
  },
  {
   "cell_type": "markdown",
   "source": [
    "Besides the newline character there are more special characters \"`\\'`\" and \"`\\\"`\", which can be used to place a single respectively double quote in a string, regardless of what characters surround the string. I also mentioned that you can use \"`\\\\`\" to insert a \"real\" backslash in a string. \n",
    "\n",
    "There are a few more \"backslash sequences\" which lead to a special character. Most of these are archaic and you do not need to worry about them. The one I want to mention are \"`\\t`\" which represents a single tabulation (also known as the 'tab')."
   ],
   "metadata": {}
  },
  {
   "cell_type": "code",
   "execution_count": 5,
   "source": [
    "d = \"test\"\r\n",
    "m = \"me\" \r\n",
    "\r\n",
    "def place_word_between_single_quotes(w1):\r\n",
    "    new_line = '\\'' + word1 + \"\\'\"\r\n",
    "    return(new_line)\r\n",
    "print(place_word_between_single_quotes(m))\r\n",
    "\r\n",
    "\r\n",
    "def place_word_between_double_quotes(w1):\r\n",
    "    new_line = '\\t' + word1 + '\"'\r\n",
    "    return(new_line)\r\n",
    "print(place_word_between_double_quotes(d))"
   ],
   "outputs": [
    {
     "output_type": "stream",
     "name": "stdout",
     "text": [
      "'orange'\n",
      "\torange\"\n"
     ]
    }
   ],
   "metadata": {}
  },
  {
   "cell_type": "markdown",
   "source": [
    "Extra information for students who want to know more, but not necessary for this course:\n",
    "\n",
    "There is another character \"`\\xnn`\" whereby `nn` stands for two hexadecimal digits, which represents the character with hexadecimal number `nn`. For example, \"`\\x20`\" is the character expressed by the hexadecimal number `20`, which is the same as the decimal number `32`, which is the space (this will be explained later in this chapter).\n",
    "\n",
    "In case you never learned about hexadecimal counting: hexadecimals use a numbering scheme that uses 16 different digits. We use ten (`0` to `9`), binary uses two (`0` to `1`), and hexidecimal then uses `0` to `9` and then continues from `A` to `F`. A direct translation from hexadecimals to decimals turns `A` into `10`, `B` into `11`, etcetera. In decimal counting, the value of a multi-digit number is found by multiplying the digits by increasing powers of `10`, from right to left, e.g., the number `1426` is `6 + 2*10 + 4*100 + 1*1000`. For hexadecimal numbers you do the same thing, but multiply by powers of `16`, e.g., the hexadecimal number `4AF2` is `2 + 15*16 + 10*256 + 4*4096`. Programmers tend to like hexadecimal numbers, as computers work with bytes as the smallest unit of memory storage, and a byte can store 256 different values, i.e., any byte value can be expressed by a hexadecimal number of two digits. "
   ],
   "metadata": {}
  },
  {
   "cell_type": "markdown",
   "source": [
    "### Accessing characters of a string"
   ],
   "metadata": {}
  },
  {
   "cell_type": "markdown",
   "source": [
    "As I showed several times before, a string is a collection of characters in a specific order. You can access the individual characters of a string using indices."
   ],
   "metadata": {}
  },
  {
   "cell_type": "markdown",
   "source": [
    "### String indices"
   ],
   "metadata": {}
  },
  {
   "cell_type": "markdown",
   "source": [
    "Each symbol in a string has a position, this position can be referred to by the index number of the position. The index numbers start at 0 and then increase to the length of the string. The following table shows the word \"orange\" in the first row and the indices for each letter in the second and third rows:\n",
    "\n",
    "&nbsp;&nbsp;__`  o  r  a  n  g  e`__<br>\n",
    "&nbsp;&nbsp;`  0  1  2  3  4  5`<br>\n",
    "` -6 -5 -4 -3 -2 -1`\n",
    "\n",
    "As you can see, you can use positive indices, which start at the first letter of the string and increase until the end of the string is reached, or negative indices, which start with -1 for the last letter of the string and decrease until the first letter of the string is reached.\n",
    "\n",
    "As the length of a string `s` is `len(s)`, the last letter of the string has index `len(s)-1`. With negative indices, the first letter of the string has index `-len(s)`.\n",
    "\n",
    "If a string is stored in a variable, the individual letters of the string can be accessed by the variable name and the index of the requested letter between square brackets (`[]`) next to it."
   ],
   "metadata": {}
  },
  {
   "cell_type": "code",
   "execution_count": 6,
   "source": [
    "fruit = \"orange\"\r\n",
    "\r\n",
    "def print_indices(fruit,n):\r\n",
    "    print(fruit[n])\r\n",
    "    \r\n",
    "print_indices(fruit,1) \r\n",
    "print_indices(fruit,2) \r\n",
    "print_indices(fruit,4)\r\n",
    "print_indices(fruit,-1)\r\n",
    "print_indices(fruit,-6)\r\n",
    "print_indices(fruit,-3)"
   ],
   "outputs": [
    {
     "output_type": "stream",
     "name": "stdout",
     "text": [
      "r\n",
      "a\n",
      "g\n",
      "e\n",
      "o\n",
      "n\n"
     ]
    }
   ],
   "metadata": {}
  },
  {
   "cell_type": "markdown",
   "source": [
    "Besides using single indices you can also access a substring (also called a \"slice\") from a string by using two numbers between the square brackets with a colon (`:`) in between. The first of these numbers is the index where the substring starts, the second where it ends. The substring does *not* include the letter at the second index. By leaving out the left number you indicate that the substring starts at the beginning of the string (i.e., at index 0). By leaving out the right number you indicate that the substring ranges up to and includes the last character of the string.\n",
    "\n",
    "If you try to access a character using an index that is beyond the reaches of a string, you get a runtime error (\"index out of bounds\"). For a range of indices to access substrings such limitations do not exist; you can use numbers that are outside the bounds of the string."
   ],
   "metadata": {}
  },
  {
   "cell_type": "code",
   "execution_count": 7,
   "source": [
    "fruit = \"orange\"\r\n",
    "print(fruit[:])\r\n",
    "print(fruit[0:])\r\n",
    "print(fruit[:5])\r\n",
    "print(fruit[:100])\r\n",
    "print(fruit[:len(fruit)])\r\n",
    "print(fruit[1:-1])\r\n",
    "print(fruit[2], fruit[1:6])"
   ],
   "outputs": [
    {
     "output_type": "stream",
     "name": "stdout",
     "text": [
      "orange\n",
      "orange\n",
      "orang\n",
      "orange\n",
      "orange\n",
      "rang\n",
      "a range\n"
     ]
    }
   ],
   "metadata": {}
  },
  {
   "cell_type": "markdown",
   "source": [
    "### Traversing strings"
   ],
   "metadata": {}
  },
  {
   "cell_type": "markdown",
   "source": [
    "We already saw how you can traverse the characters of a string using a `for` loop:"
   ],
   "metadata": {}
  },
  {
   "cell_type": "code",
   "execution_count": 8,
   "source": [
    "fruit = 'apple'\r\n",
    "\r\n",
    "def traverse_characters(word):\r\n",
    "    new_word = \"\"\r\n",
    "    for char in word:\r\n",
    "        new_word+=(char + ' - ')\r\n",
    "    return new_word\r\n",
    "print(traverse_characters(fruit))"
   ],
   "outputs": [
    {
     "output_type": "stream",
     "name": "stdout",
     "text": [
      "a - p - p - l - e - \n"
     ]
    }
   ],
   "metadata": {}
  },
  {
   "cell_type": "markdown",
   "source": [
    "Now you know about indices, you probably realize you can also use those to traverse the characters of a string:"
   ],
   "metadata": {}
  },
  {
   "cell_type": "code",
   "execution_count": 9,
   "source": [
    "fruit = 'apple'\r\n",
    "\r\n",
    "def traverse_characters2(word):\r\n",
    "    new_word = \"\"\r\n",
    "    for i in range(0, len(word)):\r\n",
    "        new_word += word[i] + \" - \"\r\n",
    "    return new_word       \r\n",
    "    \r\n",
    "def traverse_characters3(word):                            \r\n",
    "    new_word = \"\"\r\n",
    "    i = 0\r\n",
    "    while i < len(word):\r\n",
    "        new_word += word[i] + \" - \"\r\n",
    "        i += 1\r\n",
    "    return new_word\r\n",
    "\r\n",
    "print(traverse_characters2(fruit)+\"\\n\"+traverse_characters3(fruit))"
   ],
   "outputs": [
    {
     "output_type": "stream",
     "name": "stdout",
     "text": [
      "a - p - p - l - e - \n",
      "a - p - p - l - e - \n"
     ]
    }
   ],
   "metadata": {}
  },
  {
   "cell_type": "markdown",
   "source": [
    "If you just want to traverse the individual characters of a string, the first method, using `for <character> in <string>:`, is by far the most elegant and readable. However, occasionally you have to solve problems in which you might prefer one of the other methods.\n",
    "\n",
    "**Exercise (optional)**: Write code that for a string prints the indices of all of its vowels (`a`, `e`, `i`, `o`, and `u`). This can be done with a `for` loop or a `while` loop."
   ],
   "metadata": {}
  },
  {
   "cell_type": "code",
   "execution_count": 10,
   "source": [
    "# Indices of vowels\r\n",
    "def index_vowels (text):\r\n",
    "\r\n",
    "    \r\n",
    "index_vowels(\"apple\")"
   ],
   "outputs": [
    {
     "output_type": "stream",
     "name": "stdout",
     "text": [
      "0  : a\n",
      "4  : e\n"
     ]
    }
   ],
   "metadata": {}
  },
  {
   "cell_type": "markdown",
   "source": [
    "**Exercise (optional)**: Write code that uses two strings. For each character in the first string that has exactly the same character at the same index in the second string, you print the character and the index. Watch out that you do not get an \"index out of bounds\" runtime error."
   ],
   "metadata": {}
  },
  {
   "cell_type": "code",
   "execution_count": 11,
   "source": [
    "# Your function\r\n",
    "s1 = \"The Holy Grail\"\r\n",
    "s2 = \"Life of Brian\"\r\n",
    "\r\n",
    "def similar_char(text1, text2):\r\n",
    "\r\n",
    "\r\n",
    "        \r\n",
    "print(similar_char(s1, s2))"
   ],
   "outputs": [
    {
     "output_type": "stream",
     "name": "stdout",
     "text": [
      "o in position 5\n",
      "a in position 11\n",
      "\n"
     ]
    }
   ],
   "metadata": {}
  },
  {
   "cell_type": "markdown",
   "source": [
    "**Exercise (optional)**: Write a function that takes a string as argument, and creates a new string that is a copy of the argument, except that every non-letter is replaced by a space (e.g., \"`ph@t l00t`\" is changed to \"`ph t l  t`\"). To write such a function, you will start with an empty string, and traverse the characters of the argument one by one. When you encounter a character that is acceptable, you add it to the new string. When it is not acceptable, you add a space to the new string. Note that you can check whether a character is acceptable by simple comparisons, e.g., any lower case letter can be found using the test `if ch >= 'a' and ch <= 'z':`. "
   ],
   "metadata": {}
  },
  {
   "cell_type": "code",
   "execution_count": 12,
   "source": [
    "# String cleaning function\r\n",
    "def clean_string(string):\r\n",
    "  \r\n",
    "\r\n",
    "clean_string(\"Aph@t 100t\")"
   ],
   "outputs": [
    {
     "output_type": "stream",
     "name": "stdout",
     "text": [
      "Aph t    t\n"
     ]
    }
   ],
   "metadata": {}
  },
  {
   "cell_type": "markdown",
   "source": [
    "### Extended slices"
   ],
   "metadata": {}
  },
  {
   "cell_type": "markdown",
   "source": [
    "Slices (substrings) in python can take a third argument, which is the step size (or \"stride\") that is taken between indices. It is similar to the third argument for the `range()` function. The format for slices then becomes `<string>[<begin>:<end>:<step>]`. By default the step size is 1.\n",
    "\n",
    "The most common use for the step size is to use a negative step size in order to create a reversed version of a string."
   ],
   "metadata": {}
  },
  {
   "cell_type": "code",
   "execution_count": 13,
   "source": [
    "fruit = \"banana\"\r\n",
    "print(fruit[::2])\r\n",
    "print(fruit[1::2])\r\n",
    "print(fruit[::-1]) \r\n",
    "print(fruit[::-2]) "
   ],
   "outputs": [
    {
     "output_type": "stream",
     "name": "stdout",
     "text": [
      "bnn\n",
      "aaa\n",
      "ananab\n",
      "aaa\n"
     ]
    }
   ],
   "metadata": {}
  },
  {
   "cell_type": "markdown",
   "source": [
    "Reversing a string using `[::-1]` is conceptually similar to traversing the string from the last character to the beginning of the string using backward steps of size 1."
   ],
   "metadata": {}
  },
  {
   "cell_type": "code",
   "execution_count": 14,
   "source": [
    "fruit = \"banana\"                \r\n",
    "for i in range(len(fruit), -1):\r\n",
    "    print(fruit[i])   "
   ],
   "outputs": [],
   "metadata": {}
  },
  {
   "cell_type": "markdown",
   "source": [
    "### Strings are immutable"
   ],
   "metadata": {}
  },
  {
   "cell_type": "markdown",
   "source": [
    "A core property of strings is that they are *immutable*. This means that they cannot be changed. For instance, you cannot change a character of a string by assigning a new value to it. As a demonstration, the following code leads to a runtime error if you try to run it:"
   ],
   "metadata": {}
  },
  {
   "cell_type": "code",
   "execution_count": 15,
   "source": [
    "fruit = \"oringe\"\r\n",
    "fruit[2] = \"a\"\r\n",
    "print(fruit)"
   ],
   "outputs": [
    {
     "output_type": "error",
     "ename": "TypeError",
     "evalue": "'str' object does not support item assignment",
     "traceback": [
      "\u001b[0;31m---------------------------------------------------------------------------\u001b[0m",
      "\u001b[0;31mTypeError\u001b[0m                                 Traceback (most recent call last)",
      "\u001b[0;32m<ipython-input-15-3306202ba96f>\u001b[0m in \u001b[0;36m<module>\u001b[0;34m\u001b[0m\n\u001b[1;32m      1\u001b[0m \u001b[0mfruit\u001b[0m \u001b[0;34m=\u001b[0m \u001b[0;34m\"oringe\"\u001b[0m\u001b[0;34m\u001b[0m\u001b[0;34m\u001b[0m\u001b[0m\n\u001b[0;32m----> 2\u001b[0;31m \u001b[0mfruit\u001b[0m\u001b[0;34m[\u001b[0m\u001b[0;36m2\u001b[0m\u001b[0;34m]\u001b[0m \u001b[0;34m=\u001b[0m \u001b[0;34m\"a\"\u001b[0m\u001b[0;34m\u001b[0m\u001b[0;34m\u001b[0m\u001b[0m\n\u001b[0m\u001b[1;32m      3\u001b[0m \u001b[0mprint\u001b[0m\u001b[0;34m(\u001b[0m\u001b[0mfruit\u001b[0m\u001b[0;34m)\u001b[0m\u001b[0;34m\u001b[0m\u001b[0;34m\u001b[0m\u001b[0m\n",
      "\u001b[0;31mTypeError\u001b[0m: 'str' object does not support item assignment"
     ]
    }
   ],
   "metadata": {}
  },
  {
   "cell_type": "markdown",
   "source": [
    "If you want to make a change to a string, you have to create a new string that contains the change; you can then assign the new string to the existing variable if you want. For instance:"
   ],
   "metadata": {}
  },
  {
   "cell_type": "code",
   "execution_count": 16,
   "source": [
    "fruit = \"oringe\"\r\n",
    "fruit = fruit[:2] + \"a\" + fruit[3:]\r\n",
    "print(fruit)"
   ],
   "outputs": [
    {
     "output_type": "stream",
     "name": "stdout",
     "text": [
      "orange\n"
     ]
    }
   ],
   "metadata": {}
  },
  {
   "cell_type": "markdown",
   "source": [
    "The reasons for why strings are immutable are beyond the scope of this course. Just remember that if you want to modify a string you need to overwrite the entire string, and you cannot modify individual indices."
   ],
   "metadata": {}
  },
  {
   "cell_type": "markdown",
   "source": [
    "### `string` methods"
   ],
   "metadata": {}
  },
  {
   "cell_type": "markdown",
   "source": [
    "There is a collection of methods that are designed to operate on strings. All of these methods are applied to a string to perform some operation. Since strings are immutable, they *never change* the string they work on, but they always `return` a changed version of the string.\n",
    "\n",
    "All these methods are called as `<string>.<method>()`, i.e., you have to write the string that they work on before the method call, with a period in between. You will encounter this more often, and why this is implemented in this way will be explained later in the course, in the chapters about object orientation.\n",
    "\n",
    "Most of these methods are not part of a specific module, but can be called without importing them. There is a `string` module that contains specific constants and methods that can be used in your programs, but the methods I discuss here can all be used without importing the `string` module."
   ],
   "metadata": {}
  },
  {
   "cell_type": "markdown",
   "source": [
    "### `strip()`"
   ],
   "metadata": {}
  },
  {
   "cell_type": "markdown",
   "source": [
    "`strip()` removes from a string leading and trailing spaces, including leading and trailing newlines and other characters that may be viewed as spaces. There are no parameters. See the following example (the string is bordered by [ and ] to show the effect):"
   ],
   "metadata": {}
  },
  {
   "cell_type": "code",
   "execution_count": 17,
   "source": [
    "s = \"    And now for something completely different\\n     \"\r\n",
    "print(\"[\"+s+\"]\")\r\n",
    "s = s.strip()\r\n",
    "print(\"[\"+s+\"]\")"
   ],
   "outputs": [
    {
     "output_type": "stream",
     "name": "stdout",
     "text": [
      "[    And now for something completely different\n",
      "     ]\n",
      "[And now for something completely different]\n"
     ]
    }
   ],
   "metadata": {}
  },
  {
   "cell_type": "markdown",
   "source": [
    "### `upper()` and `lower()`"
   ],
   "metadata": {}
  },
  {
   "cell_type": "markdown",
   "source": [
    "`upper()` creates a version of a string of which all letters are capitals. `lower()` is equivalent, but uses only lower case letters. Neither method uses parameters."
   ],
   "metadata": {}
  },
  {
   "cell_type": "code",
   "execution_count": 18,
   "source": [
    "s = \"The Meaning of Life\"\r\n",
    "print(s)\r\n",
    "print(s.upper())\r\n",
    "print(s.lower())"
   ],
   "outputs": [
    {
     "output_type": "stream",
     "name": "stdout",
     "text": [
      "The Meaning of Life\n",
      "THE MEANING OF LIFE\n",
      "the meaning of life\n"
     ]
    }
   ],
   "metadata": {}
  },
  {
   "cell_type": "markdown",
   "source": [
    "### `find()`"
   ],
   "metadata": {}
  },
  {
   "cell_type": "markdown",
   "source": [
    "`find()` can be used to search in a string for the starting index of a particular substring. As parameters it gets the substring, and optionally a starting index to search from, and an ending index. It returns the lowest index where the substring starts, or `-1` if the substring is not found."
   ],
   "metadata": {}
  },
  {
   "cell_type": "code",
   "execution_count": 19,
   "source": [
    "s = \"Humpty Dumpty sat on the wall\"\r\n",
    "print(s.find(\"sat\"))\r\n",
    "print(s.find(\"t\"))\r\n",
    "print(s.find(\"t\", 12))\r\n",
    "print(s.find(\"q\"))\r\n",
    "\r\n",
    "s.find(\" \")"
   ],
   "outputs": [
    {
     "output_type": "stream",
     "name": "stdout",
     "text": [
      "14\n",
      "4\n",
      "16\n",
      "-1\n"
     ]
    },
    {
     "output_type": "execute_result",
     "data": {
      "text/plain": [
       "6"
      ]
     },
     "metadata": {},
     "execution_count": 19
    }
   ],
   "metadata": {}
  },
  {
   "cell_type": "markdown",
   "source": [
    "### `replace()`"
   ],
   "metadata": {}
  },
  {
   "cell_type": "markdown",
   "source": [
    "`replace()` replaces all occurrences of a substring with another substring. As parameters it gets the substring to look for, and the substring to replace it with. Optionally, it gets a parameter that indicates the maximum number of replacements to be made. \n",
    "\n",
    "I must stress again that strings are immutable, so the `replace()` function is not actually changing the string. It returns a new string that is a copy of the string with the replacements made."
   ],
   "metadata": {}
  },
  {
   "cell_type": "code",
   "execution_count": 20,
   "source": [
    "s = ' Humpty Dumpty sat on the wall '\r\n",
    "new_s = s.replace('sat on', 'fell off') \r\n",
    "\r\n",
    "print(new_s)\r\n",
    "print(s)"
   ],
   "outputs": [
    {
     "output_type": "stream",
     "name": "stdout",
     "text": [
      " Humpty Dumpty fell off the wall \n",
      " Humpty Dumpty sat on the wall \n"
     ]
    }
   ],
   "metadata": {}
  },
  {
   "cell_type": "markdown",
   "source": [
    "### `split()`"
   ],
   "metadata": {}
  },
  {
   "cell_type": "markdown",
   "source": [
    "`split()` splits a string up in words, based on a given character or substring which is used as separator. The separator is given as the parameter, and if no separator is given, the white space is used, i.e., you split a string in the actual words (though punctuation attached to words is considered part of the words). If there are multiple occurrences of the separator next to each other, the extra ones are ignored (i.e., with the white space as separator, it does not matter if there is a single white space between two words, or multiple).\n",
    "\n",
    "The result of this split is a so-called \"list\" of strings. Lists are discussed in a coming chapter. However, note that if you want to access the separate words, you can use the `for <word> in <list>:` construction."
   ],
   "metadata": {}
  },
  {
   "cell_type": "code",
   "execution_count": 21,
   "source": [
    "s = 'Humpty Dumpty sat on the wall'\r\n",
    "wordlist = s.split()\r\n",
    "for i in wordlist:\r\n",
    "    print(i)\r\n",
    "print(wordlist)"
   ],
   "outputs": [
    {
     "output_type": "stream",
     "name": "stdout",
     "text": [
      "Humpty\n",
      "Dumpty\n",
      "sat\n",
      "on\n",
      "the\n",
      "wall\n",
      "['Humpty', 'Dumpty', 'sat', 'on', 'the', 'wall']\n"
     ]
    }
   ],
   "metadata": {}
  },
  {
   "cell_type": "markdown",
   "source": [
    "A very useful property of splitting is that we can decode some basic file formats. For example, a comma separated value (CSV) file is a very simple format, of which the basic setup is that each line consists of values that are separated by a comma. These values can be split from each other using the `split()` method. (Note: In actuality it will be a bit more convoluted as there might be commas in the fields that are stored in the CSV file, so it depends a bit on the contents of the file whether this simple approach will work. More on CSV files will be said in a later chapter in the course, where file formats are discussed.)"
   ],
   "metadata": {}
  },
  {
   "cell_type": "code",
   "execution_count": 22,
   "source": [
    "csv = \"2016,September,28,Data Processing,Tilburg University,Tilburg\"\r\n",
    "values = csv.split(',')\r\n",
    "for value in values:\r\n",
    "    print(value)\r\n",
    "\r\n",
    "print(\"\")\r\n",
    "print(values)\r\n",
    "print (values[1][0])"
   ],
   "outputs": [
    {
     "output_type": "stream",
     "name": "stdout",
     "text": [
      "2016\n",
      "September\n",
      "28\n",
      "Data Processing\n",
      "Tilburg University\n",
      "Tilburg\n",
      "\n",
      "['2016', 'September', '28', 'Data Processing', 'Tilburg University', 'Tilburg']\n",
      "S\n"
     ]
    }
   ],
   "metadata": {}
  },
  {
   "cell_type": "markdown",
   "source": [
    "### `join()`"
   ],
   "metadata": {}
  },
  {
   "cell_type": "markdown",
   "source": [
    "`join()` is the opposite of `split()`. `join()` joins a list of words together, separated by a specific separator. This sounds like it would be a method of lists, but for historic reasons it is defined as a string method. Since all string methods are called with the format `<string>.<method>()`, there must be a string in front of the call to `join()`. That string is the separator that you want to use, while the parameter of the method is the list that you want to join together. The return value, as always, is the resulting string. In the following example, note the notation of each of these steps:"
   ],
   "metadata": {}
  },
  {
   "cell_type": "code",
   "execution_count": 23,
   "source": [
    "s = \"Humpty;Dumpty;sat;on;the;wall\"\r\n",
    "print (s)\r\n",
    "wordlist = s.split(';')\r\n",
    "print (wordlist)\r\n",
    "s = \" \".join(wordlist)\r\n",
    "print(s)"
   ],
   "outputs": [
    {
     "output_type": "stream",
     "name": "stdout",
     "text": [
      "Humpty;Dumpty;sat;on;the;wall\n",
      "['Humpty', 'Dumpty', 'sat', 'on', 'the', 'wall']\n",
      "Humpty Dumpty sat on the wall\n"
     ]
    }
   ],
   "metadata": {}
  },
  {
   "cell_type": "markdown",
   "source": [
    "### What you learned"
   ],
   "metadata": {}
  },
  {
   "cell_type": "markdown",
   "source": [
    "In this chapter, you learned about:\n",
    "\n",
    "- Strings\n",
    "- Multi-line strings\n",
    "- Accessing string characters with positive and negative indices\n",
    "- Slices\n",
    "- Immutability of strings\n",
    "- String methods `strip()`, `upper()`, `lower()`, `find()`, `replace()`, `split()`, and `join()`\n",
    "- Escape sequences"
   ],
   "metadata": {}
  },
  {
   "cell_type": "markdown",
   "source": [
    "# Exercises"
   ],
   "metadata": {}
  },
  {
   "cell_type": "markdown",
   "source": [
    "**Exercise 6.1:** The text string in the next cell contains several words which are enclosed by square brackets (`[` and `]`). Scan the string and print out all words which are between square brackets. For example, if the text string would be \"`[a]n example[ string]`\", you are expected to print out \"`a string`\"."
   ],
   "metadata": {}
  },
  {
   "cell_type": "code",
   "execution_count": 4,
   "source": [
    "# Distilling text.\r\n",
    "text = \"\"\"The quick, brown fox jumps over a lazy dog. DJs flock by when MTV ax quiz prog. \r\n",
    "Junk MTV quiz graced by fox whelps. [Never gonna ] Bawds jog, flick quartz, vex nymphs. \r\n",
    "[give you up\\n] Waltz, bad nymph, for quick jigs vex! Fox nymphs grab quick-jived waltz. \r\n",
    "Brick quiz whangs jumpy veldt fox. [Never ] Bright vixens jump; [gonna let ] dozy fowl \r\n",
    "quack. Quick wafting zephyrs vex bold Jim. Quick zephyrs blow, vexing daft Jim. Charged \r\n",
    "[you down\\n] fop blew my junk TV quiz. How quickly daft jumping zebras vex. Two driven \r\n",
    "jocks help fax my big quiz. Quick, Baz, get my woven flax jodhpurs! \"Now fax quiz Jack!\" \r\n",
    "my brave ghost pled. [Never ] Five quacking zephyrs jolt my wax bed. [gonna ] Flummoxed \r\n",
    "by job, kvetching W. zaps Iraq. Cozy sphinx waves quart jug of bad milk. [run around ] \r\n",
    "A very bad quack might jinx zippy fowls. Few quips galvanized the mock jury box. Quick \r\n",
    "brown dogs jump over the lazy fox. The jay, pig, fox, zebra, and my wolves quack! \r\n",
    "[and desert you] Blowzy red vixens fight for a quick jump. Joaquin Phoenix was gazed \r\n",
    "by MTV for luck. A wizard’s job is to vex chumps quickly in fog. Watch \"Jeopardy!\", \r\n",
    "Alex Trebek's fun TV quiz game.\"\"\"\r\n",
    "\r\n",
    "\r\n",
    "text_split = text.split(\"[\")\r\n",
    "\r\n",
    "for i in range(1, len(text_split)) :\r\n",
    "\r\n",
    "    bracket_text = text_split[i].split(\"]\")\r\n",
    "    print(bracket_text[0])\r\n"
   ],
   "outputs": [
    {
     "output_type": "stream",
     "name": "stdout",
     "text": [
      "Never gonna \n",
      "give you up\n",
      "\n",
      "Never \n",
      "gonna let \n",
      "you down\n",
      "\n",
      "Never \n",
      "gonna \n",
      "run around \n",
      "and desert you\n"
     ]
    }
   ],
   "metadata": {}
  },
  {
   "cell_type": "markdown",
   "source": [
    "**Exercise 6.2:** Print a line of all the capital letters \"A\" to \"Z\". Below it, print a line of the letters that are 13 positions in the alphabet away from the letters that are above them. E.g., below the \"A\" you print an \"N\", below the \"B\" you print an \"O\", etcetera. You have to consider the alphabet to be circular, i.e., after the \"Z\", it loops back to the \"A\" again."
   ],
   "metadata": {}
  },
  {
   "cell_type": "code",
   "execution_count": 6,
   "source": [
    "# ROTR-13\r\n",
    "letters = \"ABCDEFGHIJKLMNOPQRSTUVWXYZ\"\r\n",
    "new_letters = letters[13:] + letters[:13]\r\n",
    "\r\n",
    "print(letters)\r\n",
    "print(new_letters)"
   ],
   "outputs": [
    {
     "output_type": "stream",
     "name": "stdout",
     "text": [
      "ABCDEFGHIJKLMNOPQRSTUVWXYZ\n",
      "NOPQRSTUVWXYZABCDEFGHIJKLM\n"
     ]
    }
   ],
   "metadata": {}
  },
  {
   "cell_type": "markdown",
   "source": [
    "**Exercise 6.3:** In the text below, count how often the word \"wood\" occurs (using program code, of course). Capitals and lower case letters may both be used, and you have to consider that the word \"wood\" should be a separate word, and not part of another word. Hint: If you did the exercises from this chapter, you already developed a function that \"cleans\" a text. Combining that function with the `split()` function more or less solves the problem for you."
   ],
   "metadata": {}
  },
  {
   "cell_type": "code",
   "execution_count": 9,
   "source": [
    "text = \"\"\"How much wood would a woodchuck chuck\r\n",
    "If a woodchuck could chuck wood?\r\n",
    "He would chuck, he would, as much as he could,\r\n",
    "And chuck as much as a woodchuck would\r\n",
    "If a Mr. Smith could chuck wood\\n\\r\\t.\"\"\"\r\n",
    "\r\n",
    "# read whole text\r\n",
    "# create a counter\r\n",
    "# get rid \\n\r\n",
    "# get rid of ?. special grammar\r\n",
    "# lowercase my sentence\r\n",
    "\"if a woodchuck could chuck wood\"\r\n",
    "# split the string by some character\r\n",
    "[\"if\", \"a\", \"woodchuck\"]\r\n",
    "#check if wood is in the list\r\n",
    "    # if yes\r\n",
    "       # counter = counter +1 <--> counter += 1 \r\n",
    "    # else\r\n",
    "        #pass\r\n",
    "#return\r\n",
    "        "
   ],
   "outputs": [
    {
     "output_type": "execute_result",
     "data": {
      "text/plain": [
       "['if', 'a', 'woodchuck']"
      ]
     },
     "metadata": {},
     "execution_count": 9
    }
   ],
   "metadata": {}
  },
  {
   "cell_type": "code",
   "execution_count": 10,
   "source": [
    "# Counting wood.\r\n",
    "def wood_counter(text):\r\n",
    "\r\n",
    "    clean_text = text.replace(\"?\", \" \").replace(\"\\n\",\" \").replace(\"\\r\", \" \").replace(\"\\t\", \" \").replace(\",\", \" \").replace(\".\", \" \")\r\n",
    "    lower_text = clean_text.lower()\r\n",
    "    split_text = lower_text.split()\r\n",
    "\r\n",
    "    counter = 0\r\n",
    "    print(split_text)\r\n",
    "    for word in split_text:\r\n",
    "        if word == \"wood\":\r\n",
    "            counter += 1\r\n",
    "    return counter\r\n",
    "\r\n",
    "wood_counter(text)"
   ],
   "outputs": [
    {
     "output_type": "stream",
     "name": "stdout",
     "text": [
      "['how', 'much', 'wood', 'would', 'a', 'woodchuck', 'chuck', 'if', 'a', 'woodchuck', 'could', 'chuck', 'wood', 'he', 'would', 'chuck', 'he', 'would', 'as', 'much', 'as', 'he', 'could', 'and', 'chuck', 'as', 'much', 'as', 'a', 'woodchuck', 'would', 'if', 'a', 'mr', 'smith', 'could', 'chuck', 'wood']\n"
     ]
    },
    {
     "output_type": "execute_result",
     "data": {
      "text/plain": [
       "3"
      ]
     },
     "metadata": {},
     "execution_count": 10
    }
   ],
   "metadata": {}
  },
  {
   "cell_type": "code",
   "execution_count": 14,
   "source": [
    "help(str)"
   ],
   "outputs": [
    {
     "output_type": "stream",
     "name": "stdout",
     "text": [
      "Help on class str in module builtins:\n",
      "\n",
      "class str(object)\n",
      " |  str(object='') -> str\n",
      " |  str(bytes_or_buffer[, encoding[, errors]]) -> str\n",
      " |  \n",
      " |  Create a new string object from the given object. If encoding or\n",
      " |  errors is specified, then the object must expose a data buffer\n",
      " |  that will be decoded using the given encoding and error handler.\n",
      " |  Otherwise, returns the result of object.__str__() (if defined)\n",
      " |  or repr(object).\n",
      " |  encoding defaults to sys.getdefaultencoding().\n",
      " |  errors defaults to 'strict'.\n",
      " |  \n",
      " |  Methods defined here:\n",
      " |  \n",
      " |  __add__(self, value, /)\n",
      " |      Return self+value.\n",
      " |  \n",
      " |  __contains__(self, key, /)\n",
      " |      Return key in self.\n",
      " |  \n",
      " |  __eq__(self, value, /)\n",
      " |      Return self==value.\n",
      " |  \n",
      " |  __format__(self, format_spec, /)\n",
      " |      Return a formatted version of the string as described by format_spec.\n",
      " |  \n",
      " |  __ge__(self, value, /)\n",
      " |      Return self>=value.\n",
      " |  \n",
      " |  __getattribute__(self, name, /)\n",
      " |      Return getattr(self, name).\n",
      " |  \n",
      " |  __getitem__(self, key, /)\n",
      " |      Return self[key].\n",
      " |  \n",
      " |  __getnewargs__(...)\n",
      " |  \n",
      " |  __gt__(self, value, /)\n",
      " |      Return self>value.\n",
      " |  \n",
      " |  __hash__(self, /)\n",
      " |      Return hash(self).\n",
      " |  \n",
      " |  __iter__(self, /)\n",
      " |      Implement iter(self).\n",
      " |  \n",
      " |  __le__(self, value, /)\n",
      " |      Return self<=value.\n",
      " |  \n",
      " |  __len__(self, /)\n",
      " |      Return len(self).\n",
      " |  \n",
      " |  __lt__(self, value, /)\n",
      " |      Return self<value.\n",
      " |  \n",
      " |  __mod__(self, value, /)\n",
      " |      Return self%value.\n",
      " |  \n",
      " |  __mul__(self, value, /)\n",
      " |      Return self*value.\n",
      " |  \n",
      " |  __ne__(self, value, /)\n",
      " |      Return self!=value.\n",
      " |  \n",
      " |  __repr__(self, /)\n",
      " |      Return repr(self).\n",
      " |  \n",
      " |  __rmod__(self, value, /)\n",
      " |      Return value%self.\n",
      " |  \n",
      " |  __rmul__(self, value, /)\n",
      " |      Return value*self.\n",
      " |  \n",
      " |  __sizeof__(self, /)\n",
      " |      Return the size of the string in memory, in bytes.\n",
      " |  \n",
      " |  __str__(self, /)\n",
      " |      Return str(self).\n",
      " |  \n",
      " |  capitalize(self, /)\n",
      " |      Return a capitalized version of the string.\n",
      " |      \n",
      " |      More specifically, make the first character have upper case and the rest lower\n",
      " |      case.\n",
      " |  \n",
      " |  casefold(self, /)\n",
      " |      Return a version of the string suitable for caseless comparisons.\n",
      " |  \n",
      " |  center(self, width, fillchar=' ', /)\n",
      " |      Return a centered string of length width.\n",
      " |      \n",
      " |      Padding is done using the specified fill character (default is a space).\n",
      " |  \n",
      " |  count(...)\n",
      " |      S.count(sub[, start[, end]]) -> int\n",
      " |      \n",
      " |      Return the number of non-overlapping occurrences of substring sub in\n",
      " |      string S[start:end].  Optional arguments start and end are\n",
      " |      interpreted as in slice notation.\n",
      " |  \n",
      " |  encode(self, /, encoding='utf-8', errors='strict')\n",
      " |      Encode the string using the codec registered for encoding.\n",
      " |      \n",
      " |      encoding\n",
      " |        The encoding in which to encode the string.\n",
      " |      errors\n",
      " |        The error handling scheme to use for encoding errors.\n",
      " |        The default is 'strict' meaning that encoding errors raise a\n",
      " |        UnicodeEncodeError.  Other possible values are 'ignore', 'replace' and\n",
      " |        'xmlcharrefreplace' as well as any other name registered with\n",
      " |        codecs.register_error that can handle UnicodeEncodeErrors.\n",
      " |  \n",
      " |  endswith(...)\n",
      " |      S.endswith(suffix[, start[, end]]) -> bool\n",
      " |      \n",
      " |      Return True if S ends with the specified suffix, False otherwise.\n",
      " |      With optional start, test S beginning at that position.\n",
      " |      With optional end, stop comparing S at that position.\n",
      " |      suffix can also be a tuple of strings to try.\n",
      " |  \n",
      " |  expandtabs(self, /, tabsize=8)\n",
      " |      Return a copy where all tab characters are expanded using spaces.\n",
      " |      \n",
      " |      If tabsize is not given, a tab size of 8 characters is assumed.\n",
      " |  \n",
      " |  find(...)\n",
      " |      S.find(sub[, start[, end]]) -> int\n",
      " |      \n",
      " |      Return the lowest index in S where substring sub is found,\n",
      " |      such that sub is contained within S[start:end].  Optional\n",
      " |      arguments start and end are interpreted as in slice notation.\n",
      " |      \n",
      " |      Return -1 on failure.\n",
      " |  \n",
      " |  format(...)\n",
      " |      S.format(*args, **kwargs) -> str\n",
      " |      \n",
      " |      Return a formatted version of S, using substitutions from args and kwargs.\n",
      " |      The substitutions are identified by braces ('{' and '}').\n",
      " |  \n",
      " |  format_map(...)\n",
      " |      S.format_map(mapping) -> str\n",
      " |      \n",
      " |      Return a formatted version of S, using substitutions from mapping.\n",
      " |      The substitutions are identified by braces ('{' and '}').\n",
      " |  \n",
      " |  index(...)\n",
      " |      S.index(sub[, start[, end]]) -> int\n",
      " |      \n",
      " |      Return the lowest index in S where substring sub is found,\n",
      " |      such that sub is contained within S[start:end].  Optional\n",
      " |      arguments start and end are interpreted as in slice notation.\n",
      " |      \n",
      " |      Raises ValueError when the substring is not found.\n",
      " |  \n",
      " |  isalnum(self, /)\n",
      " |      Return True if the string is an alpha-numeric string, False otherwise.\n",
      " |      \n",
      " |      A string is alpha-numeric if all characters in the string are alpha-numeric and\n",
      " |      there is at least one character in the string.\n",
      " |  \n",
      " |  isalpha(self, /)\n",
      " |      Return True if the string is an alphabetic string, False otherwise.\n",
      " |      \n",
      " |      A string is alphabetic if all characters in the string are alphabetic and there\n",
      " |      is at least one character in the string.\n",
      " |  \n",
      " |  isascii(self, /)\n",
      " |      Return True if all characters in the string are ASCII, False otherwise.\n",
      " |      \n",
      " |      ASCII characters have code points in the range U+0000-U+007F.\n",
      " |      Empty string is ASCII too.\n",
      " |  \n",
      " |  isdecimal(self, /)\n",
      " |      Return True if the string is a decimal string, False otherwise.\n",
      " |      \n",
      " |      A string is a decimal string if all characters in the string are decimal and\n",
      " |      there is at least one character in the string.\n",
      " |  \n",
      " |  isdigit(self, /)\n",
      " |      Return True if the string is a digit string, False otherwise.\n",
      " |      \n",
      " |      A string is a digit string if all characters in the string are digits and there\n",
      " |      is at least one character in the string.\n",
      " |  \n",
      " |  isidentifier(self, /)\n",
      " |      Return True if the string is a valid Python identifier, False otherwise.\n",
      " |      \n",
      " |      Call keyword.iskeyword(s) to test whether string s is a reserved identifier,\n",
      " |      such as \"def\" or \"class\".\n",
      " |  \n",
      " |  islower(self, /)\n",
      " |      Return True if the string is a lowercase string, False otherwise.\n",
      " |      \n",
      " |      A string is lowercase if all cased characters in the string are lowercase and\n",
      " |      there is at least one cased character in the string.\n",
      " |  \n",
      " |  isnumeric(self, /)\n",
      " |      Return True if the string is a numeric string, False otherwise.\n",
      " |      \n",
      " |      A string is numeric if all characters in the string are numeric and there is at\n",
      " |      least one character in the string.\n",
      " |  \n",
      " |  isprintable(self, /)\n",
      " |      Return True if the string is printable, False otherwise.\n",
      " |      \n",
      " |      A string is printable if all of its characters are considered printable in\n",
      " |      repr() or if it is empty.\n",
      " |  \n",
      " |  isspace(self, /)\n",
      " |      Return True if the string is a whitespace string, False otherwise.\n",
      " |      \n",
      " |      A string is whitespace if all characters in the string are whitespace and there\n",
      " |      is at least one character in the string.\n",
      " |  \n",
      " |  istitle(self, /)\n",
      " |      Return True if the string is a title-cased string, False otherwise.\n",
      " |      \n",
      " |      In a title-cased string, upper- and title-case characters may only\n",
      " |      follow uncased characters and lowercase characters only cased ones.\n",
      " |  \n",
      " |  isupper(self, /)\n",
      " |      Return True if the string is an uppercase string, False otherwise.\n",
      " |      \n",
      " |      A string is uppercase if all cased characters in the string are uppercase and\n",
      " |      there is at least one cased character in the string.\n",
      " |  \n",
      " |  join(self, iterable, /)\n",
      " |      Concatenate any number of strings.\n",
      " |      \n",
      " |      The string whose method is called is inserted in between each given string.\n",
      " |      The result is returned as a new string.\n",
      " |      \n",
      " |      Example: '.'.join(['ab', 'pq', 'rs']) -> 'ab.pq.rs'\n",
      " |  \n",
      " |  ljust(self, width, fillchar=' ', /)\n",
      " |      Return a left-justified string of length width.\n",
      " |      \n",
      " |      Padding is done using the specified fill character (default is a space).\n",
      " |  \n",
      " |  lower(self, /)\n",
      " |      Return a copy of the string converted to lowercase.\n",
      " |  \n",
      " |  lstrip(self, chars=None, /)\n",
      " |      Return a copy of the string with leading whitespace removed.\n",
      " |      \n",
      " |      If chars is given and not None, remove characters in chars instead.\n",
      " |  \n",
      " |  partition(self, sep, /)\n",
      " |      Partition the string into three parts using the given separator.\n",
      " |      \n",
      " |      This will search for the separator in the string.  If the separator is found,\n",
      " |      returns a 3-tuple containing the part before the separator, the separator\n",
      " |      itself, and the part after it.\n",
      " |      \n",
      " |      If the separator is not found, returns a 3-tuple containing the original string\n",
      " |      and two empty strings.\n",
      " |  \n",
      " |  replace(self, old, new, count=-1, /)\n",
      " |      Return a copy with all occurrences of substring old replaced by new.\n",
      " |      \n",
      " |        count\n",
      " |          Maximum number of occurrences to replace.\n",
      " |          -1 (the default value) means replace all occurrences.\n",
      " |      \n",
      " |      If the optional argument count is given, only the first count occurrences are\n",
      " |      replaced.\n",
      " |  \n",
      " |  rfind(...)\n",
      " |      S.rfind(sub[, start[, end]]) -> int\n",
      " |      \n",
      " |      Return the highest index in S where substring sub is found,\n",
      " |      such that sub is contained within S[start:end].  Optional\n",
      " |      arguments start and end are interpreted as in slice notation.\n",
      " |      \n",
      " |      Return -1 on failure.\n",
      " |  \n",
      " |  rindex(...)\n",
      " |      S.rindex(sub[, start[, end]]) -> int\n",
      " |      \n",
      " |      Return the highest index in S where substring sub is found,\n",
      " |      such that sub is contained within S[start:end].  Optional\n",
      " |      arguments start and end are interpreted as in slice notation.\n",
      " |      \n",
      " |      Raises ValueError when the substring is not found.\n",
      " |  \n",
      " |  rjust(self, width, fillchar=' ', /)\n",
      " |      Return a right-justified string of length width.\n",
      " |      \n",
      " |      Padding is done using the specified fill character (default is a space).\n",
      " |  \n",
      " |  rpartition(self, sep, /)\n",
      " |      Partition the string into three parts using the given separator.\n",
      " |      \n",
      " |      This will search for the separator in the string, starting at the end. If\n",
      " |      the separator is found, returns a 3-tuple containing the part before the\n",
      " |      separator, the separator itself, and the part after it.\n",
      " |      \n",
      " |      If the separator is not found, returns a 3-tuple containing two empty strings\n",
      " |      and the original string.\n",
      " |  \n",
      " |  rsplit(self, /, sep=None, maxsplit=-1)\n",
      " |      Return a list of the words in the string, using sep as the delimiter string.\n",
      " |      \n",
      " |        sep\n",
      " |          The delimiter according which to split the string.\n",
      " |          None (the default value) means split according to any whitespace,\n",
      " |          and discard empty strings from the result.\n",
      " |        maxsplit\n",
      " |          Maximum number of splits to do.\n",
      " |          -1 (the default value) means no limit.\n",
      " |      \n",
      " |      Splits are done starting at the end of the string and working to the front.\n",
      " |  \n",
      " |  rstrip(self, chars=None, /)\n",
      " |      Return a copy of the string with trailing whitespace removed.\n",
      " |      \n",
      " |      If chars is given and not None, remove characters in chars instead.\n",
      " |  \n",
      " |  split(self, /, sep=None, maxsplit=-1)\n",
      " |      Return a list of the words in the string, using sep as the delimiter string.\n",
      " |      \n",
      " |      sep\n",
      " |        The delimiter according which to split the string.\n",
      " |        None (the default value) means split according to any whitespace,\n",
      " |        and discard empty strings from the result.\n",
      " |      maxsplit\n",
      " |        Maximum number of splits to do.\n",
      " |        -1 (the default value) means no limit.\n",
      " |  \n",
      " |  splitlines(self, /, keepends=False)\n",
      " |      Return a list of the lines in the string, breaking at line boundaries.\n",
      " |      \n",
      " |      Line breaks are not included in the resulting list unless keepends is given and\n",
      " |      true.\n",
      " |  \n",
      " |  startswith(...)\n",
      " |      S.startswith(prefix[, start[, end]]) -> bool\n",
      " |      \n",
      " |      Return True if S starts with the specified prefix, False otherwise.\n",
      " |      With optional start, test S beginning at that position.\n",
      " |      With optional end, stop comparing S at that position.\n",
      " |      prefix can also be a tuple of strings to try.\n",
      " |  \n",
      " |  strip(self, chars=None, /)\n",
      " |      Return a copy of the string with leading and trailing whitespace removed.\n",
      " |      \n",
      " |      If chars is given and not None, remove characters in chars instead.\n",
      " |  \n",
      " |  swapcase(self, /)\n",
      " |      Convert uppercase characters to lowercase and lowercase characters to uppercase.\n",
      " |  \n",
      " |  title(self, /)\n",
      " |      Return a version of the string where each word is titlecased.\n",
      " |      \n",
      " |      More specifically, words start with uppercased characters and all remaining\n",
      " |      cased characters have lower case.\n",
      " |  \n",
      " |  translate(self, table, /)\n",
      " |      Replace each character in the string using the given translation table.\n",
      " |      \n",
      " |        table\n",
      " |          Translation table, which must be a mapping of Unicode ordinals to\n",
      " |          Unicode ordinals, strings, or None.\n",
      " |      \n",
      " |      The table must implement lookup/indexing via __getitem__, for instance a\n",
      " |      dictionary or list.  If this operation raises LookupError, the character is\n",
      " |      left untouched.  Characters mapped to None are deleted.\n",
      " |  \n",
      " |  upper(self, /)\n",
      " |      Return a copy of the string converted to uppercase.\n",
      " |  \n",
      " |  zfill(self, width, /)\n",
      " |      Pad a numeric string with zeros on the left, to fill a field of the given width.\n",
      " |      \n",
      " |      The string is never truncated.\n",
      " |  \n",
      " |  ----------------------------------------------------------------------\n",
      " |  Static methods defined here:\n",
      " |  \n",
      " |  __new__(*args, **kwargs) from builtins.type\n",
      " |      Create and return a new object.  See help(type) for accurate signature.\n",
      " |  \n",
      " |  maketrans(...)\n",
      " |      Return a translation table usable for str.translate().\n",
      " |      \n",
      " |      If there is only one argument, it must be a dictionary mapping Unicode\n",
      " |      ordinals (integers) or characters to Unicode ordinals, strings or None.\n",
      " |      Character keys will be then converted to ordinals.\n",
      " |      If there are two arguments, they must be strings of equal length, and\n",
      " |      in the resulting dictionary, each character in x will be mapped to the\n",
      " |      character at the same position in y. If there is a third argument, it\n",
      " |      must be a string, whose characters will be mapped to None in the result.\n",
      "\n"
     ]
    }
   ],
   "metadata": {}
  },
  {
   "cell_type": "code",
   "execution_count": null,
   "source": [],
   "outputs": [],
   "metadata": {}
  }
 ],
 "metadata": {
  "kernelspec": {
   "name": "python3",
   "display_name": "Python 3.8.10 64-bit"
  },
  "language_info": {
   "codemirror_mode": {
    "name": "ipython",
    "version": 3
   },
   "file_extension": ".py",
   "mimetype": "text/x-python",
   "name": "python",
   "nbconvert_exporter": "python",
   "pygments_lexer": "ipython3",
   "version": "3.8.10"
  },
  "interpreter": {
   "hash": "39f09f95418d5e20a22cd80830927c706683f81e2f5e3773e1b700995dc38a17"
  }
 },
 "nbformat": 4,
 "nbformat_minor": 2
}